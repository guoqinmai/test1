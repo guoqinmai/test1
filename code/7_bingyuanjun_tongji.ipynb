{
 "cells": [
  {
   "cell_type": "code",
   "execution_count": 1,
   "id": "6bac3837",
   "metadata": {},
   "outputs": [],
   "source": [
    "#####good_保持这个\n",
    "import pandas as pd\n",
    "import numpy as np\n",
    "\n",
    "\n",
    "\n",
    "with open(r\"G:\\湖南文理学院\\湖南省自然科学基金项目申报\\相关代码\\test\\blastn_list.txt\") as dff:\n",
    "    d=dff.readlines()\n",
    "    for name in d:\n",
    "        fpath = (r\"G:\\湖南文理学院\\湖南省自然科学基金项目申报\\相关代码\\test\\6_blastn_v9\\%s.fastq.gz.txt\"%(name.split(\".\")[0]))\n",
    "        \n",
    "         #####读入文件\n",
    "        f = pd.read_table(fpath,header=None)\n",
    "\n",
    "        f[12]=np.rint(f[2]*f[3]*0.01)  # ∑Xi*Yi\n",
    "\n",
    "        df = pd.DataFrame([f.groupby(1)[0].nunique(), \n",
    "                           f.groupby(1)[12].sum() / f.groupby(1)[0].count(), \n",
    "                           f.groupby(1)[12].sum(), \n",
    "                           f.groupby(1)[0].nunique() / f[0].nunique(),\n",
    "                           (f.groupby(1)[0].nunique())* (f.groupby(1)[12].sum() / f.groupby(1)[0].count())*(f.groupby(1)[12].sum())*(f.groupby(1)[0].nunique() / f[0].nunique()),\n",
    "                          (f.groupby(1)[0].nunique())* (f.groupby(1)[12].sum() / f.groupby(1)[0].count())*(f.groupby(1)[12].sum())*(f.groupby(1)[0].nunique() / f[0].nunique()) / ((f.groupby(1)[0].nunique())* (f.groupby(1)[12].sum() / f.groupby(1)[0].count())*(f.groupby(1)[12].sum())*(f.groupby(1)[0].nunique() / f[0].nunique())).sum()]).T\n",
    "\n",
    "        df.columns = ['number_of_matches', 'average', 'sum', 'reads_ratio','all_sum','all_ratio']\n",
    "        df.sort_values('all_ratio', ascending=False, inplace=True) # 按all_ratio从高到低排序\n",
    "        \n",
    "        #df.to_excel('P9.3.out.xlsx') \n",
    "        ####保存到文件夹\n",
    "       \n",
    "        \n",
    "        df.to_csv(r\"G:\\湖南文理学院\\湖南省自然科学基金项目申报\\相关文章\\附录\\%s.csv\"%(name.split(\".\")[0]))\n",
    "\n",
    "\n"
   ]
  }
 ],
 "metadata": {
  "kernelspec": {
   "display_name": "Python 3 (ipykernel)",
   "language": "python",
   "name": "python3"
  },
  "language_info": {
   "codemirror_mode": {
    "name": "ipython",
    "version": 3
   },
   "file_extension": ".py",
   "mimetype": "text/x-python",
   "name": "python",
   "nbconvert_exporter": "python",
   "pygments_lexer": "ipython3",
   "version": "3.9.7"
  }
 },
 "nbformat": 4,
 "nbformat_minor": 5
}
